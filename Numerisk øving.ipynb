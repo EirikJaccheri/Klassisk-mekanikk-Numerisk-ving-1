{
 "cells": [
  {
   "cell_type": "code",
   "execution_count": null,
   "metadata": {},
   "outputs": [],
   "source": [
    "import numpy as np\n",
    "import matplotlib.pyplot as plt\n",
    "#Take into account computational..?"
   ]
  },
  {
   "cell_type": "code",
   "execution_count": null,
   "metadata": {},
   "outputs": [],
   "source": [
    "dt = 0.0001\n",
    "tNum = 300000\n",
    "t0 = 0\n",
    "theta0 = 0.2\n",
    "thetaDot0 = 0\n",
    "g = 9.81\n",
    "l = 1\n",
    "m = 1\n",
    "omega = np.sqrt(g / l) \n",
    "u0 = np.array((theta0, thetaDot0))\n",
    "\n",
    "def f(t, u): #diffligninga. Tar inn skalar t selv om den ikke brukes her. u = [theta, thetaDerivert]\n",
    "    return np.array([u[1], - omega**2 *np.sin(u[0])]) #k = sqrt(g/l)\n",
    "\n",
    "#euler-chromer method\n",
    "def ec_g(t, u):\n",
    "    return -np.sin(u[0])\n",
    "\n",
    "def Energy(Y): #u is vector with theta, thetaDot\n",
    "    return Pot(Y) + Kin(Y)\n",
    "\n",
    "def Pot(Y):\n",
    "    return  m * g *(1 - np.cos(Y.T[0])) * l\n",
    "\n",
    "def Kin(Y):\n",
    "    return 0.5 * m * ( l * Y.T[1])**2"
   ]
  },
  {
   "cell_type": "code",
   "execution_count": null,
   "metadata": {},
   "outputs": [],
   "source": [
    "def Kutta4(f,t0,y0,h,nsteps):\n",
    "    T = np.zeros((nsteps + 1))\n",
    "    Y = np.zeros( ((nsteps + 1),  y0.size) )\n",
    "    Y[0] = y0\n",
    "    T[0] = t0\n",
    "    for step in range(nsteps):\n",
    "        T[step + 1] = T[step] + h\n",
    "        F1 = f(T[step], Y[step])\n",
    "        F2 = f(T[step] + h / 2, Y[step] + h / 2 * F1)\n",
    "        F3 = f(T[step] + h / 2, Y[step] + h / 2 * F2)\n",
    "        F4 = f(T[step] + h, Y[step] + h * F3)\n",
    "        Y[step + 1] = Y[step] + h / 6 * (F1 + 2* F2 + 2 * F3 + F4)        \n",
    "    return T,Y\n",
    "\n",
    "def EulersMethod(f, u0, t0, tNum, dt ):\n",
    "    #tf = t0 + dt * tNum\n",
    "    u = np.zeros(( tNum, 2))\n",
    "    u[0] = u0\n",
    "    for i in range(1, tNum):\n",
    "        u[i] = u[i-1] + f(i * dt, u[i-1]) * dt  \n",
    "    return u\n",
    "\n",
    "def Euler_Cromer(g, u0, t0, tNum, dt):\n",
    "    u = np.zeros((tNum, 2))\n",
    "    u[0] = u0\n",
    "    for i in range(1, tNum):\n",
    "        u[i][1] = u[i-1][1] + g(0, u[i-1]) * dt\n",
    "        u[i][0] = u[i-1][0] + u[i][1] * dt\n",
    "    return u"
   ]
  },
  {
   "cell_type": "code",
   "execution_count": null,
   "metadata": {},
   "outputs": [],
   "source": [
    "\n",
    "\n",
    "Y = EulersMethod(f, u0 , t0 , tNum , dt )\n",
    "T = np.linspace(t0, t0 + dt * tNum, tNum)\n",
    "\n",
    "fig, (ax1, ax2) = plt.subplots(2,1)\n",
    "fig.set_size_inches(12, 10)\n",
    "#ax1.set(xlim=(-1, 10), ylim=(-1.2, 1.2))\n",
    "ax1.plot(T, Y.T[0]) #Plotter vinkelen mot tiden\n",
    "ax1.set_title(\"Euler\")\n",
    "ax1.set_xlabel(\"Time\")\n",
    "ax1.set_ylabel(\"Angle\")\n",
    "\n",
    "#ax2.plot(T, Kin(Y))\n",
    "#ax2.plot(T, Pot(Y))\n",
    "ax1.plot(T, Energy(Y))\n",
    "ax2.plot(T, u0[0] * np.cos(omega * T)) #Analytical solution\n",
    "\n",
    "plt.show()"
   ]
  },
  {
   "cell_type": "code",
   "execution_count": null,
   "metadata": {},
   "outputs": [],
   "source": [
    "fig, (ax1, ax2) = plt.subplots(2,1)\n",
    "fig.set_size_inches(12, 10)\n",
    "\n",
    "T2, Y2 = Kutta4(f, t0, u0, dt, tNum)\n",
    "ax2.plot(T2, Y2.T[0])\n",
    "ax2.set_title(\"RK4\")\n",
    "ax2.set_xlabel(\"Time\")\n",
    "ax2.set_ylabel(\"Angle\")\n",
    "\n",
    "#ax1.set(ylim = (-0.001, 0.001))\n",
    "ax1.plot(T2, Energy(Y2))\n",
    "plt.show()"
   ]
  }
 ],
 "metadata": {
  "kernelspec": {
   "display_name": "Python 3",
   "language": "python",
   "name": "python3"
  },
  "language_info": {
   "codemirror_mode": {
    "name": "ipython",
    "version": 3
   },
   "file_extension": ".py",
   "mimetype": "text/x-python",
   "name": "python",
   "nbconvert_exporter": "python",
   "pygments_lexer": "ipython3",
   "version": "3.7.1"
  }
 },
 "nbformat": 4,
 "nbformat_minor": 2
}
