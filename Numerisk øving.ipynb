{
 "cells": [
  {
   "cell_type": "code",
   "execution_count": null,
   "metadata": {},
   "outputs": [],
   "source": [
    "import numpy as np\n",
    "import matplotlib.pyplot as plt\n",
    "#Take into account computational..?"
   ]
  },
  {
   "cell_type": "code",
   "execution_count": null,
   "metadata": {},
   "outputs": [],
   "source": [
    "dt = 0.001\n",
    "tNum = 50000\n",
    "t0 = 0\n",
    "g = 9.81\n",
    "l, m = 1, 1\n",
    "omega = np.sqrt(g / l) \n",
    "theta0 = 0.2\n",
    "thetaDot0 = 0\n",
    "u0 = np.array((theta0, thetaDot0))\n",
    "\n",
    "def f(t, u): #differential equation. u = [theta, thetaDot]\n",
    "    return np.array([u[1], - omega**2 *u[0]]) \n",
    "\n",
    "\n",
    "def ec_g(t, u): #differential equation for the Euler-Cromer method.\n",
    "    return - omega**2 * u[0]\n",
    "\n",
    "def Energy(Y): #Y is array containing vectors with theta, thetaDot at different times\n",
    "    return Pot(Y) + Kin(Y)\n",
    "\n",
    "def Pot(Y):\n",
    "    return  m * g * l * Y.T[0]**2 / 2\n",
    "\n",
    "def Kin(Y):\n",
    "    return 0.5 * m * ( l * Y.T[1])**2\n",
    "\n"
   ]
  },
  {
   "cell_type": "code",
   "execution_count": null,
   "metadata": {},
   "outputs": [],
   "source": [
    "def Kutta4(f, u0, t0, tNum, dt):\n",
    "    U = np.zeros( ((tNum),  u0.size) )\n",
    "    U[0] = u0\n",
    "    for i in range(1 ,tNum):\n",
    "        F1 = f(i * dt, U[i-1])\n",
    "        F2 = f(i * dt + dt / 2, U[i-1] + dt  / 2 * F1)\n",
    "        F3 = f(i * dt + dt / 2, U[i-1] + dt / 2 * F2)\n",
    "        F4 = f(i * dt + dt, U[i-1] + dt * F3)\n",
    "        U[i] = U[i-1] + dt / 6 * (F1 + 2* F2 + 2 * F3 + F4)        \n",
    "    return U\n",
    "\n",
    "def EulersMethod(f, u0, t0, tNum, dt ):\n",
    "    #tf = t0 + dt * tNum\n",
    "    U = np.zeros(( tNum, 2))\n",
    "    U[0] = u0\n",
    "    for i in range(1, tNum):\n",
    "        U[i] = U[i-1] + f(i * dt, U[i-1]) * dt  \n",
    "    return U\n",
    "\n",
    "def Euler_Cromer(g, u0, t0, tNum, dt):\n",
    "    U = np.zeros((tNum, 2))\n",
    "    U[0] = u0\n",
    "    for i in range(1, tNum):\n",
    "        U[i][1] = U[i-1][1] + g(0, U[i-1]) * dt\n",
    "        U[i][0] = U[i-1][0] + U[i][1] * dt\n",
    "    return U"
   ]
  },
  {
   "cell_type": "code",
   "execution_count": null,
   "metadata": {},
   "outputs": [],
   "source": [
    "Y = EulersMethod(f, u0 , t0 , tNum , dt )\n",
    "T = np.linspace(t0, t0 + dt * tNum, tNum)\n",
    "\n",
    "fig, (ax1, ax3) = plt.subplots(2,1)\n",
    "fig.set_size_inches(12, 16)\n",
    "fig.suptitle(\"Figure 1\", fontsize = 16, verticalalignment = \"baseline\")\n",
    "\n",
    "l1, = ax1.plot(T, Y.T[0]) #Plotter vinkelen mot tiden\n",
    "ax1.set_title(\"Euler method\", fontsize = 14)\n",
    "ax1.set_xlabel(\"Time\", fontsize = 14)\n",
    "ax1.set_ylabel(\"Angle\", fontsize = 14)\n",
    "ax1.set(ylim = (-0.3, 0.3))\n",
    "\n",
    "ax2 = ax1.twinx() #Ny axis som deler x-akse med ax1\n",
    "l2, = ax2.plot(T, Energy(Y), color = 'tab:red')\n",
    "ax2.set_ylabel(\"Energy / J\", fontsize = 14)\n",
    "ax2.set(ylim = (-1, 1))\n",
    "ax2.legend((l1, l2), ('Angle', 'Energy'), loc='upper left', shadow=True)#legend for ax1 og ax2\n",
    "\n",
    "ax3.set_title(\"Analytical solution\", fontsize = 14)\n",
    "ax3.set_xlabel(\"Time\", fontsize = 14)\n",
    "ax3.set_ylabel(\"Angle\", fontsize = 14)\n",
    "YA = np.zeros((tNum, 2))\n",
    "YA[:, 0] = u0[0] * np.cos(omega * T)\n",
    "YA[:, 1] = - u0[0] * omega * np.sin(omega * T)\n",
    "l3, = ax3.plot(T, YA.T[0]) #Analytical solutio\n",
    "ax3.set(ylim = (-0.3, 0.3))\n",
    "\n",
    "ax4 = ax3.twinx()\n",
    "l4, = ax4.plot(T, Energy(YA), color = \"tab:red\" )\n",
    "ax4.set(ylim = (-1, 1))\n",
    "ax4.set_ylabel(\"Energy / J\", fontsize = 14)\n",
    "ax3.legend((l3, l4), (\"Angle\", \"Energy\"), loc = \"upper left\")\n",
    "\n",
    "plt.show()"
   ]
  },
  {
   "cell_type": "markdown",
   "metadata": {},
   "source": [
    "### Diskusjon oppgave 1\n",
    "From figure 1 it is clear that the Euler equation solves the "
   ]
  },
  {
   "cell_type": "markdown",
   "metadata": {},
   "source": [
    "# Oppgave 2"
   ]
  },
  {
   "cell_type": "code",
   "execution_count": null,
   "metadata": {},
   "outputs": [],
   "source": [
    "def plot_comparison(u0,t0,tNum,dt):\n",
    "    fig, (ax1, ax2, ax3) = plt.subplots(1,3)\n",
    "    fig.set_size_inches(25, 5)\n",
    "    \n",
    "    T = np.linspace(t0, t0 + dt * tNum, tNum)\n",
    "    \n",
    "    ax1.set_title(\"Euler Method, Step Length: \" + str(dt))\n",
    "    ax1.set_xlabel(\"Time\")\n",
    "    ax1.set_ylabel(\"Angle\")\n",
    "    UE = EulersMethod(f, u0 , t0 , tNum , dt )\n",
    "    ax1.plot(T,UE.T[0])\n",
    "    \n",
    "    ax2.set_title(\"RK4, Step Length: \" + str(dt))\n",
    "    ax2.set_xlabel(\"Time\")\n",
    "    ax2.set_ylabel(\"Angle\")\n",
    "    UK = Kutta4(f, u0, t0, tNum,  dt)\n",
    "    ax2.plot(T, UK.T[0])\n",
    "    \n",
    "    ax3.set_title(\"Euler-Cromer, Step Length: \" + str(dt))\n",
    "    ax3.set_xlabel(\"Time\")\n",
    "    ax3.set_ylabel(\"Angle\")\n",
    "    UE_C = Euler_Cromer(ec_g, u0, t0, tNum,dt)\n",
    "    ax3.plot(T,UE_C.T[0])\n",
    "    plt.show()\n",
    "    \n",
    "tNum2, dt2 = 20000, 0.001\n",
    "plot_comparison(u0,t0,tNum2, dt2)\n",
    "\n",
    "tNum2, dt2 = 200, 0.1\n",
    "plot_comparison(u0,t0,tNum2, dt2)\n",
    "\n",
    "tNum2, dt2 = 40, 0.5\n",
    "plot_comparison(u0,t0,tNum2, dt2)\n",
    "    "
   ]
  },
  {
   "cell_type": "markdown",
   "metadata": {},
   "source": [
    "## Discussion excercise 2\n",
    "The figure above shows the angle and Energy of the simple pendulum plotted against time. The three methods: eulers method, Runge-Kutta-4(RK4) and euler-Cromer are compared horisontaly and three different step sizes: $0.001s$ , $0.1s$ and $0.5s$\n",
    "are shown vertically. \n",
    "\n",
    "The step size $0.001s$ gives a stable harmonic motion for all the methods. The step size $0.1s$ gives stable harmonic motion for runge kutta 4 and Euler-Cromer but a diverging motion for eulers method. The energy for the runge kutta method is stable and the energy for euler-cromer oscilates about the correct value. For the step size $0.5s$ RK4-method results in decreasing amplitude and energy while euler-chromer-method results in stable amplitude and energy, but with large oscilations in the energy."
   ]
  },
  {
   "cell_type": "code",
   "execution_count": null,
   "metadata": {
    "scrolled": true
   },
   "outputs": [],
   "source": [
    "def plot_phase_comparison(u0,t0,tNum,dt):\n",
    "    fig, (ax1, ax2, ax3) = plt.subplots(1,3)\n",
    "    fig.set_size_inches(25, 5)\n",
    "    \n",
    "    T = np.linspace(t0, t0 + dt * tNum, tNum)\n",
    "    \n",
    "    ax1.set_title(\"Euler Method, Step Length: \" + str(dt))\n",
    "    ax1.set_xlabel(\"Angle\")\n",
    "    ax1.set_ylabel(\"Angular Velocity\")\n",
    "    UE = EulersMethod(f, u0 , t0 , tNum , dt )\n",
    "    ax1.plot(UE.T[0],UE.T[1])\n",
    "    \n",
    "    ax2.set_title(\"RK4, Step Length: \" + str(dt))\n",
    "    ax2.set_xlabel(\"Angle\")\n",
    "    ax2.set_ylabel(\"Angular velocity\")\n",
    "    UK = Kutta4(f, u0,t0, tNum, dt)\n",
    "    ax2.plot(UK.T[0], UK.T[1])\n",
    "    \n",
    "    ax3.set_title(\"Euler-Cromer, Step Length: \" + str(dt))\n",
    "    ax3.set_xlabel(\"Angle\")\n",
    "    ax3.set_ylabel(\"Angular Velocity\")\n",
    "    UE_C = Euler_Cromer(ec_g, u0, t0, tNum,dt)\n",
    "    ax3.plot(UE_C.T[0],UE_C.T[1])\n",
    "    plt.show()\n",
    "\n",
    "tNum3, dt3 = 200000, 0.001\n",
    "plot_phase_comparison(u0,t0,tNum3,dt3)\n",
    "\n",
    "tNum3, dt3 = 2000, 0.1\n",
    "plot_phase_comparison(u0,t0,tNum3,dt3)\n",
    "\n",
    "tNum3, dt3 = 400, 0.5\n",
    "plot_phase_comparison(u0,t0,tNum3,dt3)"
   ]
  },
  {
   "cell_type": "markdown",
   "metadata": {},
   "source": [
    "The figure above shows the angular velocity plotted against the angle for the three methods and the different step sizes: $0.001s$ , $0.1s$ and $0.5s$. RK4 and Euler-Cromer give the correct result for time step $0.001s$. For time step $0.1s$ RK4 results in aproximately the correct result while Euler-Cromer results in a oval that is slightly tilted. For the time step $0.5s$ RK4 results in a spiral in phase space, corresponing to the reduction of energy. Euler-Cromer with time steps $0.5s$ gives a even more tilted oval than for time step $0.1s$.\n",
    "\n",
    "Based on the angle-time and angle-angular-velocity plots RK4 gives satisfactory results at time step $0.1s$. The angle-time plot for euler-cromer with time step $0.1s$ is identical to the analytical result, therfore the time step is sufficent. Because of the oscilation of the energy and the tilt in phase space, euler-cromer gives inferior results to RK4."
   ]
  }
 ],
 "metadata": {
  "kernelspec": {
   "display_name": "Python 3",
   "language": "python",
   "name": "python3"
  },
  "language_info": {
   "codemirror_mode": {
    "name": "ipython",
    "version": 3
   },
   "file_extension": ".py",
   "mimetype": "text/x-python",
   "name": "python",
   "nbconvert_exporter": "python",
   "pygments_lexer": "ipython3",
   "version": "3.7.1"
  }
 },
 "nbformat": 4,
 "nbformat_minor": 2
}
