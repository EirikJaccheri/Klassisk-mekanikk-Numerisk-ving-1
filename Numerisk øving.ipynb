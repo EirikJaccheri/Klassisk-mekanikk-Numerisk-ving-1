{
 "cells": [
  {
   "cell_type": "code",
   "execution_count": null,
   "metadata": {},
   "outputs": [],
   "source": [
    "import numpy as np\n",
    "import matplotlib.pyplot as plt\n",
    "#Take into account computational..?"
   ]
  },
  {
   "cell_type": "code",
   "execution_count": null,
   "metadata": {},
   "outputs": [],
   "source": [
    "dt = 0.01\n",
    "tNum = 3000\n",
    "t0 = 0\n",
    "theta0 = 0.2\n",
    "thetaDot0 = 0\n",
    "g = 9.81\n",
    "l = 1\n",
    "m = 1\n",
    "omega = np.sqrt(g / l) \n",
    "u0 = np.array((theta0, thetaDot0))\n",
    "\n",
    "def f(t, u): #diffligninga. Tar inn skalar t selv om den ikke brukes her. u = [theta, thetaDerivert]\n",
    "    return np.array([u[1], - omega**2 *np.sin(u[0])]) #k = sqrt(g/l)\n",
    "\n",
    "#euler-chromer method\n",
    "def ec_g(t, u):\n",
    "    return - omega**2 *np.sin(u[0])\n",
    "\n",
    "def Energy(Y): #u is vector with theta, thetaDot\n",
    "    return Pot(Y) + Kin(Y)\n",
    "\n",
    "def Pot(Y):\n",
    "    return  m * g *(1 - np.cos(Y.T[0])) * l\n",
    "\n",
    "def Kin(Y):\n",
    "    return 0.5 * m * ( l * Y.T[1])**2"
   ]
  },
  {
   "cell_type": "code",
   "execution_count": null,
   "metadata": {},
   "outputs": [],
   "source": [
    "def Kutta4(f,t0,u0,dt,tNum):\n",
    "    U = np.zeros( ((tNum),  u0.size) )\n",
    "    U[0] = u0\n",
    "    for i in range(1 ,tNum):\n",
    "        F1 = f(i * dt, U[i-1])\n",
    "        F2 = f(i * dt + dt / 2, U[i-1] + dt  / 2 * F1)\n",
    "        F3 = f(i * dt + dt / 2, U[i-1] + dt / 2 * F2)\n",
    "        F4 = f(i * dt + dt, U[i-1] + dt * F3)\n",
    "        U[i] = U[i-1] + dt / 6 * (F1 + 2* F2 + 2 * F3 + F4)        \n",
    "    return U\n",
    "\n",
    "def EulersMethod(f, u0, t0, tNum, dt ):\n",
    "    #tf = t0 + dt * tNum\n",
    "    U = np.zeros(( tNum, 2))\n",
    "    U[0] = u0\n",
    "    for i in range(1, tNum):\n",
    "        U[i] = U[i-1] + f(i * dt, U[i-1]) * dt  \n",
    "    return U\n",
    "\n",
    "def Euler_Cromer(g, u0, t0, tNum, dt):\n",
    "    U = np.zeros((tNum, 2))\n",
    "    U[0] = u0\n",
    "    for i in range(1, tNum):\n",
    "        U[i][1] = U[i-1][1] + g(0, U[i-1]) * dt\n",
    "        U[i][0] = U[i-1][0] + U[i][1] * dt\n",
    "    return U"
   ]
  },
  {
   "cell_type": "code",
   "execution_count": null,
   "metadata": {},
   "outputs": [],
   "source": [
    "Y = EulersMethod(f, u0 , t0 , tNum , dt )\n",
    "T = np.linspace(t0, t0 + dt * tNum, tNum)\n",
    "\n",
    "fig, (ax1, ax2) = plt.subplots(2,1)\n",
    "fig.set_size_inches(12, 10)\n",
    "#ax1.set(xlim=(-1, 10), ylim=(-1.2, 1.2))\n",
    "l1, = ax1.plot(T, Y.T[0]) #Plotter vinkelen mot tiden\n",
    "ax1.set_title(\"Euler\")\n",
    "ax1.set_xlabel(\"Time\")\n",
    "ax1.set_ylabel(\"Angle\")\n",
    "\n",
    "\n",
    "#ax2.plot(T, Kin(Y))\n",
    "#ax2.plot(T, Pot(Y))\n",
    "\n",
    "l2, = ax2.plot(T, u0[0] * np.cos(omega * T)) #Analytical solution\n",
    "ax2.legend((l2,), (\"Angle\"), loc = \"upper left\")\n",
    "\n",
    "ax3 = ax1.twinx() #Ny axis som deler x-akse med \n",
    "ax3.set_ylabel(\"Energy / J\", fontsize = 20)\n",
    "\n",
    "l3, = ax3.plot(T, Energy(Y), color = 'tab:red')\n",
    "ax3.legend((l1, l3), ('Angle', 'Energy'), loc='upper left', shadow=True)\n",
    "\n",
    "\n",
    "plt.show()"
   ]
  },
  {
   "cell_type": "markdown",
   "metadata": {},
   "source": [
    "# Oppgave 2"
   ]
  },
  {
   "cell_type": "code",
   "execution_count": null,
   "metadata": {},
   "outputs": [],
   "source": [
    "def plot_comparison(u0,t0,tNum,dt):\n",
    "    fig, (ax1, ax2, ax3) = plt.subplots(3,1)\n",
    "    fig.set_size_inches(12, 16)\n",
    "    \n",
    "    ax1.set_title(\"Euler\")\n",
    "    ax1.set_xlabel(\"Time\")\n",
    "    ax1.set_ylabel(\"Angle\")\n",
    "    UE = EulersMethod(f, u0 , t0 , tNum , dt )\n",
    "    ax1.plot(T,UE.T[0])\n",
    "    \n",
    "    ax2.set_title(\"RK4\")\n",
    "    ax2.set_xlabel(\"Time\")\n",
    "    ax2.set_ylabel(\"Angle\")\n",
    "    UK = Kutta4(f, t0, u0, dt, tNum)\n",
    "    ax2.plot(T, UK.T[0])\n",
    "    \n",
    "    ax3.set_title(\"Euler-Cromer\")\n",
    "    ax3.set_xlabel(\"Time\")\n",
    "    ax3.set_ylabel(\"Angle\")\n",
    "    UE_C = Euler_Cromer(ec_g, u0, t0, tNum,dt)\n",
    "    ax3.plot(T,UE_C.T[0])\n",
    "    plt.show()\n",
    "    \n",
    "    \n",
    "plot_comparison(u0,t0,tNum,dt)\n",
    "    \n",
    "\n",
    "    "
   ]
  }
 ],
 "metadata": {
  "kernelspec": {
   "display_name": "Python 3",
   "language": "python",
   "name": "python3"
  },
  "language_info": {
   "codemirror_mode": {
    "name": "ipython",
    "version": 3
   },
   "file_extension": ".py",
   "mimetype": "text/x-python",
   "name": "python",
   "nbconvert_exporter": "python",
   "pygments_lexer": "ipython3",
   "version": "3.7.1"
  }
 },
 "nbformat": 4,
 "nbformat_minor": 2
}
